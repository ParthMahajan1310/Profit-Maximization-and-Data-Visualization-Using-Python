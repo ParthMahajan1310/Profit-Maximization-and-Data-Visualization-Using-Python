{
 "cells": [
  {
   "cell_type": "code",
   "execution_count": 1,
   "metadata": {
    "collapsed": false
   },
   "outputs": [
    {
     "name": "stdout",
     "output_type": "stream",
     "text": [
      "      2\n",
      "-200 x + 9.2e+04 x - 8.4e+06\n",
      "230.0\n",
      "-2180000.0\n"
     ]
    }
   ],
   "source": [
    "import matplotlib.pylab as plt\n",
    "import scipy.optimize as opt\n",
    "import numpy as np\n",
    "obj=np.poly1d([-200,92000,-8400000])\n",
    "print obj\n",
    "result=opt.minimize_scalar(-obj,[-10,10])\n",
    "print result.x\n",
    "print result.fun\n",
    "y1=np.linspace(126,334,100)\n",
    "plt.plot(y1,obj(y1),label='profit curve')\n",
    "plt.plot(result.x,-result.fun,'ro',label='maximum profit')\n",
    "plt.xlabel(\"Cost\")\n",
    "plt.ylabel(\"Profit\")\n",
    "plt.title(\"Profit Maximization Graph\")\n",
    "plt.legend()\n",
    "plt.grid()\n",
    "plt.show()\n",
    "\n",
    "\n",
    "\n"
   ]
  },
  {
   "cell_type": "code",
   "execution_count": null,
   "metadata": {
    "collapsed": true
   },
   "outputs": [],
   "source": []
  }
 ],
 "metadata": {
  "kernelspec": {
   "display_name": "Python 2",
   "language": "python",
   "name": "python2"
  },
  "language_info": {
   "codemirror_mode": {
    "name": "ipython",
    "version": 2
   },
   "file_extension": ".py",
   "mimetype": "text/x-python",
   "name": "python",
   "nbconvert_exporter": "python",
   "pygments_lexer": "ipython2",
   "version": "2.7.9"
  }
 },
 "nbformat": 4,
 "nbformat_minor": 0
}
